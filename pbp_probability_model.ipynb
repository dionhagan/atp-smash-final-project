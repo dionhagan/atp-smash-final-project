{
 "cells": [
  {
   "cell_type": "markdown",
   "metadata": {},
   "source": [
    "# Scraping"
   ]
  },
  {
   "cell_type": "code",
   "execution_count": 62,
   "metadata": {
    "collapsed": true
   },
   "outputs": [],
   "source": [
    "# The %... is an iPython thing, and is not part of the Python language.\n",
    "# In this case we're just telling the plotting library to draw things on\n",
    "# the notebook, instead of on a separate window.\n",
    "%matplotlib inline\n",
    "# See all the \"as ...\" contructs? They're just aliasing the package names.\n",
    "# That way we can call methods like plt.plot() instead of matplotlib.pyplot.plot().\n",
    "import numpy as np\n",
    "import scipy as sp\n",
    "import matplotlib as mpl\n",
    "import matplotlib.cm as cm\n",
    "import matplotlib.pyplot as plt\n",
    "import pandas as pd\n",
    "from itertools import cycle\n",
    "import matplotlib.pyplot as plt\n",
    "import time\n",
    "pd.set_option('display.width', 500)\n",
    "pd.set_option('display.max_columns', 100)\n",
    "pd.set_option('display.notebook_repr_html', True)\n",
    "import seaborn as sns\n",
    "sns.set_style(\"whitegrid\")\n",
    "sns.set_context(\"poster\")"
   ]
  },
  {
   "cell_type": "code",
   "execution_count": 63,
   "metadata": {
    "collapsed": true
   },
   "outputs": [],
   "source": [
    "from pyquery import PyQuery as pq\n",
    "from bs4 import BeautifulSoup\n",
    "# The \"requests\" library makes working with HTTP requests easier\n",
    "# than the built-in urllib libraries.\n",
    "import requests"
   ]
  },
  {
   "cell_type": "code",
   "execution_count": 3,
   "metadata": {
    "collapsed": true
   },
   "outputs": [
    {
     "name": "stdout",
     "output_type": "stream",
     "text": [
      "clay\n",
      "1992\n"
     ]
    },
    {
     "ename": "ConnectionError",
     "evalue": "HTTPConnectionPool(host='www.atpworldtour.com', port=80): Max retries exceeded with url: /en/stats/1st-serve/1992/clay/all/ (Caused by NewConnectionError('<requests.packages.urllib3.connection.HTTPConnection object at 0x109faf7d0>: Failed to establish a new connection: [Errno 61] Connection refused',))",
     "output_type": "error",
     "traceback": [
      "\u001b[0;31m---------------------------------------------------------------------------\u001b[0m",
      "\u001b[0;31mConnectionError\u001b[0m                           Traceback (most recent call last)",
      "\u001b[0;32m<ipython-input-3-a8a847f0478f>\u001b[0m in \u001b[0;36m<module>\u001b[0;34m()\u001b[0m\n\u001b[1;32m     17\u001b[0m             \u001b[0;32mprint\u001b[0m \u001b[0mi\u001b[0m\u001b[0;34m\u001b[0m\u001b[0m\n\u001b[1;32m     18\u001b[0m             \u001b[0mreturns\u001b[0m \u001b[0;34m=\u001b[0m \u001b[0;34m'http://www.atpworldtour.com/en/stats/%(what)s/%(year)s/%(surface)s/all/'\u001b[0m \u001b[0;34m%\u001b[0m             \u001b[0;34m{\u001b[0m\u001b[0;34m\"year\"\u001b[0m\u001b[0;34m:\u001b[0m \u001b[0mstr\u001b[0m\u001b[0;34m(\u001b[0m\u001b[0mi\u001b[0m\u001b[0;34m)\u001b[0m\u001b[0;34m,\u001b[0m \u001b[0;34m\"surface\"\u001b[0m\u001b[0;34m:\u001b[0m \u001b[0msurface\u001b[0m\u001b[0;34m,\u001b[0m \u001b[0;34m\"what\"\u001b[0m\u001b[0;34m:\u001b[0m \u001b[0mtypes\u001b[0m\u001b[0;34m}\u001b[0m\u001b[0;34m\u001b[0m\u001b[0m\n\u001b[0;32m---> 19\u001b[0;31m             \u001b[0mreturns\u001b[0m \u001b[0;34m=\u001b[0m \u001b[0mrequests\u001b[0m\u001b[0;34m.\u001b[0m\u001b[0mget\u001b[0m\u001b[0;34m(\u001b[0m\u001b[0mreturns\u001b[0m\u001b[0;34m)\u001b[0m\u001b[0;34m\u001b[0m\u001b[0m\n\u001b[0m\u001b[1;32m     20\u001b[0m             \u001b[0mreturns\u001b[0m \u001b[0;34m=\u001b[0m \u001b[0mBeautifulSoup\u001b[0m\u001b[0;34m(\u001b[0m\u001b[0mreturns\u001b[0m\u001b[0;34m.\u001b[0m\u001b[0mtext\u001b[0m\u001b[0;34m,\u001b[0m \u001b[0;34m\"html.parser\"\u001b[0m\u001b[0;34m)\u001b[0m\u001b[0;34m\u001b[0m\u001b[0m\n\u001b[1;32m     21\u001b[0m             \u001b[0mrows\u001b[0m \u001b[0;34m=\u001b[0m \u001b[0mreturns\u001b[0m\u001b[0;34m.\u001b[0m\u001b[0mfind\u001b[0m\u001b[0;34m(\u001b[0m\u001b[0;34m\"table\"\u001b[0m\u001b[0;34m,\u001b[0m \u001b[0mattrs\u001b[0m\u001b[0;34m=\u001b[0m\u001b[0;34m{\u001b[0m\u001b[0;34m\"class\"\u001b[0m\u001b[0;34m:\u001b[0m \u001b[0;34m\"stats-listing-table\"\u001b[0m\u001b[0;34m}\u001b[0m\u001b[0;34m)\u001b[0m\u001b[0;34m.\u001b[0m\u001b[0mfind_all\u001b[0m\u001b[0;34m(\u001b[0m\u001b[0;34m\"tr\"\u001b[0m\u001b[0;34m,\u001b[0m \u001b[0mattrs\u001b[0m\u001b[0;34m=\u001b[0m\u001b[0;34m{\u001b[0m\u001b[0;34m\"class\"\u001b[0m\u001b[0;34m:\u001b[0m \u001b[0;34m\"stats-listing-row\"\u001b[0m\u001b[0;34m}\u001b[0m\u001b[0;34m)\u001b[0m\u001b[0;34m[\u001b[0m\u001b[0;36m0\u001b[0m\u001b[0;34m:\u001b[0m\u001b[0;34m]\u001b[0m\u001b[0;34m\u001b[0m\u001b[0m\n",
      "\u001b[0;32m/Users/jacobgollub/anaconda/lib/python2.7/site-packages/requests/api.pyc\u001b[0m in \u001b[0;36mget\u001b[0;34m(url, params, **kwargs)\u001b[0m\n\u001b[1;32m     67\u001b[0m \u001b[0;34m\u001b[0m\u001b[0m\n\u001b[1;32m     68\u001b[0m     \u001b[0mkwargs\u001b[0m\u001b[0;34m.\u001b[0m\u001b[0msetdefault\u001b[0m\u001b[0;34m(\u001b[0m\u001b[0;34m'allow_redirects'\u001b[0m\u001b[0;34m,\u001b[0m \u001b[0mTrue\u001b[0m\u001b[0;34m)\u001b[0m\u001b[0;34m\u001b[0m\u001b[0m\n\u001b[0;32m---> 69\u001b[0;31m     \u001b[0;32mreturn\u001b[0m \u001b[0mrequest\u001b[0m\u001b[0;34m(\u001b[0m\u001b[0;34m'get'\u001b[0m\u001b[0;34m,\u001b[0m \u001b[0murl\u001b[0m\u001b[0;34m,\u001b[0m \u001b[0mparams\u001b[0m\u001b[0;34m=\u001b[0m\u001b[0mparams\u001b[0m\u001b[0;34m,\u001b[0m \u001b[0;34m**\u001b[0m\u001b[0mkwargs\u001b[0m\u001b[0;34m)\u001b[0m\u001b[0;34m\u001b[0m\u001b[0m\n\u001b[0m\u001b[1;32m     70\u001b[0m \u001b[0;34m\u001b[0m\u001b[0m\n\u001b[1;32m     71\u001b[0m \u001b[0;34m\u001b[0m\u001b[0m\n",
      "\u001b[0;32m/Users/jacobgollub/anaconda/lib/python2.7/site-packages/requests/api.pyc\u001b[0m in \u001b[0;36mrequest\u001b[0;34m(method, url, **kwargs)\u001b[0m\n\u001b[1;32m     48\u001b[0m \u001b[0;34m\u001b[0m\u001b[0m\n\u001b[1;32m     49\u001b[0m     \u001b[0msession\u001b[0m \u001b[0;34m=\u001b[0m \u001b[0msessions\u001b[0m\u001b[0;34m.\u001b[0m\u001b[0mSession\u001b[0m\u001b[0;34m(\u001b[0m\u001b[0;34m)\u001b[0m\u001b[0;34m\u001b[0m\u001b[0m\n\u001b[0;32m---> 50\u001b[0;31m     \u001b[0mresponse\u001b[0m \u001b[0;34m=\u001b[0m \u001b[0msession\u001b[0m\u001b[0;34m.\u001b[0m\u001b[0mrequest\u001b[0m\u001b[0;34m(\u001b[0m\u001b[0mmethod\u001b[0m\u001b[0;34m=\u001b[0m\u001b[0mmethod\u001b[0m\u001b[0;34m,\u001b[0m \u001b[0murl\u001b[0m\u001b[0;34m=\u001b[0m\u001b[0murl\u001b[0m\u001b[0;34m,\u001b[0m \u001b[0;34m**\u001b[0m\u001b[0mkwargs\u001b[0m\u001b[0;34m)\u001b[0m\u001b[0;34m\u001b[0m\u001b[0m\n\u001b[0m\u001b[1;32m     51\u001b[0m     \u001b[0;31m# By explicitly closing the session, we avoid leaving sockets open which\u001b[0m\u001b[0;34m\u001b[0m\u001b[0;34m\u001b[0m\u001b[0m\n\u001b[1;32m     52\u001b[0m     \u001b[0;31m# can trigger a ResourceWarning in some cases, and look like a memory leak\u001b[0m\u001b[0;34m\u001b[0m\u001b[0;34m\u001b[0m\u001b[0m\n",
      "\u001b[0;32m/Users/jacobgollub/anaconda/lib/python2.7/site-packages/requests/sessions.pyc\u001b[0m in \u001b[0;36mrequest\u001b[0;34m(self, method, url, params, data, headers, cookies, files, auth, timeout, allow_redirects, proxies, hooks, stream, verify, cert, json)\u001b[0m\n\u001b[1;32m    466\u001b[0m         }\n\u001b[1;32m    467\u001b[0m         \u001b[0msend_kwargs\u001b[0m\u001b[0;34m.\u001b[0m\u001b[0mupdate\u001b[0m\u001b[0;34m(\u001b[0m\u001b[0msettings\u001b[0m\u001b[0;34m)\u001b[0m\u001b[0;34m\u001b[0m\u001b[0m\n\u001b[0;32m--> 468\u001b[0;31m         \u001b[0mresp\u001b[0m \u001b[0;34m=\u001b[0m \u001b[0mself\u001b[0m\u001b[0;34m.\u001b[0m\u001b[0msend\u001b[0m\u001b[0;34m(\u001b[0m\u001b[0mprep\u001b[0m\u001b[0;34m,\u001b[0m \u001b[0;34m**\u001b[0m\u001b[0msend_kwargs\u001b[0m\u001b[0;34m)\u001b[0m\u001b[0;34m\u001b[0m\u001b[0m\n\u001b[0m\u001b[1;32m    469\u001b[0m \u001b[0;34m\u001b[0m\u001b[0m\n\u001b[1;32m    470\u001b[0m         \u001b[0;32mreturn\u001b[0m \u001b[0mresp\u001b[0m\u001b[0;34m\u001b[0m\u001b[0m\n",
      "\u001b[0;32m/Users/jacobgollub/anaconda/lib/python2.7/site-packages/requests/sessions.pyc\u001b[0m in \u001b[0;36msend\u001b[0;34m(self, request, **kwargs)\u001b[0m\n\u001b[1;32m    574\u001b[0m \u001b[0;34m\u001b[0m\u001b[0m\n\u001b[1;32m    575\u001b[0m         \u001b[0;31m# Send the request\u001b[0m\u001b[0;34m\u001b[0m\u001b[0;34m\u001b[0m\u001b[0m\n\u001b[0;32m--> 576\u001b[0;31m         \u001b[0mr\u001b[0m \u001b[0;34m=\u001b[0m \u001b[0madapter\u001b[0m\u001b[0;34m.\u001b[0m\u001b[0msend\u001b[0m\u001b[0;34m(\u001b[0m\u001b[0mrequest\u001b[0m\u001b[0;34m,\u001b[0m \u001b[0;34m**\u001b[0m\u001b[0mkwargs\u001b[0m\u001b[0;34m)\u001b[0m\u001b[0;34m\u001b[0m\u001b[0m\n\u001b[0m\u001b[1;32m    577\u001b[0m \u001b[0;34m\u001b[0m\u001b[0m\n\u001b[1;32m    578\u001b[0m         \u001b[0;31m# Total elapsed time of the request (approximately)\u001b[0m\u001b[0;34m\u001b[0m\u001b[0;34m\u001b[0m\u001b[0m\n",
      "\u001b[0;32m/Users/jacobgollub/anaconda/lib/python2.7/site-packages/requests/adapters.pyc\u001b[0m in \u001b[0;36msend\u001b[0;34m(self, request, stream, timeout, verify, cert, proxies)\u001b[0m\n\u001b[1;32m    421\u001b[0m                 \u001b[0;32mraise\u001b[0m \u001b[0mRetryError\u001b[0m\u001b[0;34m(\u001b[0m\u001b[0me\u001b[0m\u001b[0;34m,\u001b[0m \u001b[0mrequest\u001b[0m\u001b[0;34m=\u001b[0m\u001b[0mrequest\u001b[0m\u001b[0;34m)\u001b[0m\u001b[0;34m\u001b[0m\u001b[0m\n\u001b[1;32m    422\u001b[0m \u001b[0;34m\u001b[0m\u001b[0m\n\u001b[0;32m--> 423\u001b[0;31m             \u001b[0;32mraise\u001b[0m \u001b[0mConnectionError\u001b[0m\u001b[0;34m(\u001b[0m\u001b[0me\u001b[0m\u001b[0;34m,\u001b[0m \u001b[0mrequest\u001b[0m\u001b[0;34m=\u001b[0m\u001b[0mrequest\u001b[0m\u001b[0;34m)\u001b[0m\u001b[0;34m\u001b[0m\u001b[0m\n\u001b[0m\u001b[1;32m    424\u001b[0m \u001b[0;34m\u001b[0m\u001b[0m\n\u001b[1;32m    425\u001b[0m         \u001b[0;32mexcept\u001b[0m \u001b[0mClosedPoolError\u001b[0m \u001b[0;32mas\u001b[0m \u001b[0me\u001b[0m\u001b[0;34m:\u001b[0m\u001b[0;34m\u001b[0m\u001b[0m\n",
      "\u001b[0;31mConnectionError\u001b[0m: HTTPConnectionPool(host='www.atpworldtour.com', port=80): Max retries exceeded with url: /en/stats/1st-serve/1992/clay/all/ (Caused by NewConnectionError('<requests.packages.urllib3.connection.HTTPConnection object at 0x109faf7d0>: Failed to establish a new connection: [Errno 61] Connection refused',))"
     ]
    }
   ],
   "source": [
    "# THIS IS THE CODE I USED TO SCRAPE DATA FROM atpworldtour.com. No need to run it, as we stored it in\n",
    "# our pickle file, stats_dict\n",
    "\n",
    "# we do this for every year and every surface... three sets of serve and return dicts per year, \n",
    "# containing info on each player\n",
    "stats_dict = {}\n",
    "surfaces = [\"clay\",\"hard\",\"grass\"]\n",
    "stat_type = [\"1st-serve\",\"1st-serve-points-won\",\"2nd-serve-points-won\",\"1st-serve-return-points-won\",\"2nd-serve-return-points-won\"]\n",
    "\n",
    "for types in stat_type:\n",
    "    stats_dict[types] = {}\n",
    "    for surface in surfaces:\n",
    "        print surface\n",
    "        stats_dict[types][surface] = {}\n",
    "        for i in range(1992,2016):\n",
    "            time.sleep(1)\n",
    "            print i\n",
    "            returns = 'http://www.atpworldtour.com/en/stats/%(what)s/%(year)s/%(surface)s/all/' % \\\n",
    "            {\"year\": str(i), \"surface\": surface, \"what\": types}\n",
    "            returns = requests.get(returns)\n",
    "            returns = BeautifulSoup(returns.text, \"html.parser\")\n",
    "            rows = returns.find(\"table\", attrs={\"class\": \"stats-listing-table\"}).find_all(\"tr\", attrs={\"class\": \"stats-listing-row\"})[0:]\n",
    "            names = returns.find(\"table\", attrs={\"class\": \"stats-listing-table\"}).find_all(\"td\", attrs={\"class\": \"stats-listing-name\"})\n",
    "            #print returns\n",
    "            #rows = returns.find_all(\"tr\", attrs={\"class\": \"stats-listing-row\"})[0:]\n",
    "            #names = returns.find_all(\"td\", attrs={\"class\": \"stats-listing-name\"})\n",
    "\n",
    "            name_list = []\n",
    "\n",
    "            # collect player names from webpage table\n",
    "            for name in names:\n",
    "                store = str(name.find(\"a\").get(\"href\"))\n",
    "                a,b,store = store.partition(\"players/\")\n",
    "                store,a,b = store.partition(\"/\")\n",
    "                store.replace('-',' ')\n",
    "                name_list.append(store)\n",
    "            # create dataframe with player names\n",
    "            our_df = pd.DataFrame(name_list)\n",
    "            our_df.columns = ['player']\n",
    "            # initialize empty lists\n",
    "            stats_perc = []\n",
    "            # iterate through tables rows and store serving statistics in lists\n",
    "            for row in rows:\n",
    "                info = row.find_all(\"td\")[5:9]\n",
    "                # index up to 2 so I get rid of the % sign\n",
    "                stats_perc.append(int(str(info[0].text).replace(\"%\",\"\")))\n",
    "\n",
    "            our_df[types] = stats_perc\n",
    "            stats_dict[types][surface][i] = our_df\n",
    "\n",
    "stats_dict"
   ]
  },
  {
   "cell_type": "code",
   "execution_count": null,
   "metadata": {
    "collapsed": true
   },
   "outputs": [],
   "source": [
    "import cPickle as pickle\n",
    "with open('stats_dict.p', 'wb') as fp:\n",
    "    pickle.dump(stats_dict, fp)"
   ]
  },
  {
   "cell_type": "markdown",
   "metadata": {},
   "source": [
    "# Point by Point Simulator"
   ]
  },
  {
   "cell_type": "markdown",
   "metadata": {},
   "source": [
    "Now we build a function that lets us simulate a match between any top-100 players on any surface over any of the past 25 years. The functions are designed to simulate, check, convert, and display points in tennis' scoring system. After a random coin flip, one of the two players begins serving and the match progresses until one player wins two out of three sets."
   ]
  },
  {
   "cell_type": "code",
   "execution_count": 64,
   "metadata": {
    "collapsed": true
   },
   "outputs": [],
   "source": [
    "# here we load in our dictionary of player's serve and return statistics, scraped from atpworldtour.com\n",
    "import cPickle as pickle\n",
    "with open('stats_dict.p', 'rb') as fp:\n",
    "    stats_dict = pickle.load(fp)"
   ]
  },
  {
   "cell_type": "code",
   "execution_count": 5,
   "metadata": {
    "collapsed": true
   },
   "outputs": [],
   "source": [
    "# function to convert dict of two-element list scores into proper overall score; does not check for valid scores\n",
    "def get_score(points):\n",
    "    # unless we are in a tiebreaker, code converts point score from number format to tennis' 15-30-40-deuce format\n",
    "    if points['game'] != [6,6]:\n",
    "        point_score = [int(p)*15 for p in points['point']]\n",
    "        for i in range(0,len(point_score)):\n",
    "            if point_score[i] == 45:\n",
    "                point_score[i] = 40\n",
    "        if max(point_score) > 40:\n",
    "            if point_score[0] > point_score[1]:\n",
    "                point_score = ['AD','40']\n",
    "            if point_score[0] < point_score[1]:\n",
    "                point_score = ['40','AD']\n",
    "            if point_score[0] == point_score[1]:\n",
    "                point_score = ['40','40']\n",
    "        return str(points['set'][0]) + '-' + str(points['set'][1]) + ', ' + str(points['game'][0]) +\\\n",
    "        '-' + str(points['game'][1]) + ', ' + str(point_score[0]) + '-' + str(point_score[1])\n",
    "    else:\n",
    "        return str(points['set'][0]) + '-' + str(points['set'][1]) + ', ' + str(points['game'][0]) +\\\n",
    "        '-' + str(points['game'][1]) + ', ' + str(points['point'][0]) + '-' + str(points['point'][1])"
   ]
  },
  {
   "cell_type": "code",
   "execution_count": 6,
   "metadata": {
    "collapsed": false
   },
   "outputs": [
    {
     "name": "stderr",
     "output_type": "stream",
     "text": [
      "<ipython-input-6-f09f8e74b9a6>:33: SyntaxWarning: name 'server' is assigned to before global declaration\n",
      "  global server\n",
      "<ipython-input-6-f09f8e74b9a6>:34: SyntaxWarning: name 'serving' is used prior to global declaration\n",
      "  global serving\n",
      "<ipython-input-6-f09f8e74b9a6>:58: SyntaxWarning: name 'server' is assigned to before global declaration\n",
      "  global server\n",
      "<ipython-input-6-f09f8e74b9a6>:59: SyntaxWarning: name 'serving' is used prior to global declaration\n",
      "  global serving\n",
      "<ipython-input-6-f09f8e74b9a6>:65: SyntaxWarning: name 'server' is assigned to before global declaration\n",
      "  global server\n",
      "<ipython-input-6-f09f8e74b9a6>:66: SyntaxWarning: name 'serving' is used prior to global declaration\n",
      "  global serving\n"
     ]
    }
   ],
   "source": [
    "# check to see if a game should be over in tennis\n",
    "# I will first write this treating the tiebreaker as a typical fifteenth game with a single server\n",
    "# then I will later update it to reflect an actual tiebreaker\n",
    "score = {}\n",
    "score['set'] = [1,0]\n",
    "score['game'] = [6,6]\n",
    "score['point'] = [7,9]\n",
    "\n",
    "def check_score(points):\n",
    "    # first we check the points score\n",
    "    #if max(points['point']) == 0:\n",
    "    #    print str(names[server]) + ' serving'\n",
    "    \n",
    "    # if we are not in a tiebreaker, proceed with regular scoring\n",
    "    if points['game'] != [6,6]:\n",
    "        if max(points['point']) < 4:\n",
    "            return points\n",
    "        if max(points['point']) >= 4:\n",
    "            if (max(points['point'])-min(points['point'])) < 2:\n",
    "                return points\n",
    "            else:\n",
    "                # if the difference in points is 2, we reset the point score and update the game score\n",
    "                if points['point'][0] > points['point'][1]:\n",
    "                    points['game'][0] += 1\n",
    "                    # I switch the server after any time the game score is updated\n",
    "                    index = server_I.next()\n",
    "                    global server\n",
    "                    global serving\n",
    "                    server = serving[index]\n",
    "                if points['point'][1] > points['point'][0]:\n",
    "                    points['game'][1] += 1\n",
    "                    index = server_I.next()\n",
    "                    global server\n",
    "                    global serving\n",
    "                    server = serving[index]\n",
    "                points['point'] = [0,0]\n",
    "    #if we are in a tiebreaker, switch serve every two points and end once a player gets to seven and wins by two\n",
    "    elif points['game'] == [6,6]:\n",
    "        '''\n",
    "        if (sum(points['point'])%2 == 1):\n",
    "            # switch after points with remainder one, since you switch serve after the first and every two after\n",
    "            index = server_I.next()\n",
    "            global server\n",
    "            global serving\n",
    "            server = serving[index]\n",
    "            print points['point']\n",
    "            print str(names[server]) + ' serving'\n",
    "            return points\n",
    "        \n",
    "        '''\n",
    "        # now check if tiebreak should be over\n",
    "        if max(points['point']) >= 7 and ((max(points['point'])-min(points['point'])) >= 2):\n",
    "            if points['point'][0] > points['point'][1]:\n",
    "                print get_score(points)\n",
    "                points['game'][0] += 1\n",
    "                # I switch the server after any time the game score is updated\n",
    "                index = server_I.next()\n",
    "                global server\n",
    "                global serving\n",
    "                server = serving[index]\n",
    "            if points['point'][1] > points['point'][0]:\n",
    "                print get_score(points)\n",
    "                points['game'][1] += 1\n",
    "                index = server_I.next()\n",
    "                global server\n",
    "                global serving\n",
    "                server = serving[index]\n",
    "            points['point'] = [0,0]\n",
    "        # otherwise, tiebreak continues\n",
    "        else:\n",
    "            return points\n",
    "            \n",
    "    # now we check the game score\n",
    "    if max(points['game']) < 6:\n",
    "        print str(names[server]) + ' serving'\n",
    "        return points\n",
    "    if points['game'] == [6,6] and points['point'] == [0,0]:\n",
    "        print str(names[server]) + ' serving'\n",
    "        return points\n",
    "    # my next logical statement covers all cases where a player has reached 6 or more games except 6-5\n",
    "    if (max(points['game']) - min(points['game'])) >= 2 or max(points['game']) == 7:\n",
    "        if points['game'][0] > points['game'][1]:\n",
    "            points['set'][0] += 1\n",
    "            #print str(names[server]) + ' serving'\n",
    "        if points['game'][1] > points['game'][0]:\n",
    "            points['set'][1] += 1\n",
    "            #print str(names[server]) + ' serving'\n",
    "        points['game'] = [0,0]\n",
    "\n",
    "    # now we check the set score\n",
    "    if max(points['set']) < 2:\n",
    "        print str(names[server]) + ' serving'\n",
    "        return points\n",
    "    else:\n",
    "        #print \"Game, Set, Match.\"\n",
    "        return points"
   ]
  },
  {
   "cell_type": "code",
   "execution_count": 7,
   "metadata": {
    "collapsed": true
   },
   "outputs": [],
   "source": [
    "def point(first_serve_perc,first_serve_win,second_serve_win,score):\n",
    "    rando = np.random.uniform()\n",
    "    if rando < first_serve_perc:\n",
    "        point = np.random.binomial(1,first_serve_win)\n",
    "    if rando > first_serve_perc:\n",
    "        point = np.random.binomial(1,second_serve_win)\n",
    "    #point_chex.append(point)\n",
    "    # depending on who is serving, I must assign the won and lost points accordingly\n",
    "    if (point == 1 and server == 'p1') or (point == 0 and server == 'p2'):\n",
    "        score[0] += 1\n",
    "    else:\n",
    "        score[1] += 1\n",
    "    return score"
   ]
  },
  {
   "cell_type": "code",
   "execution_count": 8,
   "metadata": {
    "collapsed": false
   },
   "outputs": [
    {
     "name": "stderr",
     "output_type": "stream",
     "text": [
      "<ipython-input-8-2bf773be27ce>:41: SyntaxWarning: name 'server' is assigned to before global declaration\n",
      "  global server\n",
      "<ipython-input-8-2bf773be27ce>:42: SyntaxWarning: name 'serving' is assigned to before global declaration\n",
      "  global serving\n",
      "<ipython-input-8-2bf773be27ce>:48: SyntaxWarning: name 'names' is used prior to global declaration\n",
      "  global names\n"
     ]
    }
   ],
   "source": [
    "# let's get started\n",
    "\n",
    "def simulate(mast_dict,p1,p2):\n",
    "    outcomes = []\n",
    "    \n",
    "    # set up indicator variable to designate who is serving\n",
    "    global server_I\n",
    "    server_I = cycle(range(2))\n",
    "    # set up dict so I can index my iterator to find the server in a given game\n",
    "    global serving\n",
    "    serving = ['p1','p2']\n",
    "    global server\n",
    "    \n",
    "    # flip a coin to get this match started\n",
    "    if np.random.uniform(0,1) > .5:\n",
    "        print \"%s to serve\" % (p1)\n",
    "        index = server_I.next()\n",
    "        server = serving[index]\n",
    "    else:\n",
    "        print \"%s to serve\" % (p2)\n",
    "        server_I.next()\n",
    "        index = server_I.next()\n",
    "        server = serving[index]\n",
    "\n",
    "    # initialize empty scoreboards\n",
    "    score = {}\n",
    "    score['set'] = [0,0]\n",
    "    score['game'] = [0,0]\n",
    "    score['point'] = [0,0]\n",
    "\n",
    "    # now we get the party started...\n",
    "    print get_score(score)\n",
    "    while max(check_score(score)['set']) < 2:\n",
    "        \n",
    "        score['point'] = point(mast_dict[server]['1st_serve%'],mast_dict[server]['1st_serve_win'],mast_dict[server]['2nd_serve_win'],score['point'])\n",
    "        score = check_score(score)\n",
    "        print get_score(score)\n",
    "        # checker\n",
    "        if score['game'] == [6,6] and sum(score['point'])%2 == 1:\n",
    "            index = server_I.next()\n",
    "            global server\n",
    "            global serving\n",
    "            server = serving[index]\n",
    "            print str(names[server]) + ' serving'\n",
    "            \n",
    "    if max(check_score(score)['set']) == 2:\n",
    "        print \"Game, Set, Match.\"\n",
    "        global names\n",
    "        if check_score(score)['set'][0] == 2:\n",
    "            print names['p1'] + ' wins.'\n",
    "        else:\n",
    "            print names['p2'] + ' wins'"
   ]
  },
  {
   "cell_type": "code",
   "execution_count": 9,
   "metadata": {
    "collapsed": false
   },
   "outputs": [
    {
     "name": "stdout",
     "output_type": "stream",
     "text": [
      "goran-ivanisevic to serve\n",
      "0-0, 0-0, 0-0\n",
      "0-0, 0-0, 0-15\n",
      "0-0, 0-0, 0-30\n",
      "0-0, 0-0, 0-40\n",
      "pete-sampras serving\n",
      "0-0, 0-1, 0-0\n",
      "0-0, 0-1, 15-0\n",
      "0-0, 0-1, 30-0\n",
      "0-0, 0-1, 40-0\n",
      "0-0, 0-1, 40-15\n",
      "0-0, 0-1, 40-30\n",
      "goran-ivanisevic serving\n",
      "0-0, 1-1, 0-0\n",
      "0-0, 1-1, 0-15\n",
      "0-0, 1-1, 15-15\n",
      "0-0, 1-1, 15-30\n",
      "0-0, 1-1, 30-30\n",
      "0-0, 1-1, 30-40\n",
      "0-0, 1-1, 40-40\n",
      "0-0, 1-1, 40-AD\n",
      "pete-sampras serving\n",
      "0-0, 1-2, 0-0\n",
      "0-0, 1-2, 15-0\n",
      "0-0, 1-2, 30-0\n",
      "0-0, 1-2, 40-0\n",
      "goran-ivanisevic serving\n",
      "0-0, 2-2, 0-0\n",
      "0-0, 2-2, 0-15\n",
      "0-0, 2-2, 0-30\n",
      "0-0, 2-2, 15-30\n",
      "0-0, 2-2, 15-40\n",
      "pete-sampras serving\n",
      "0-0, 2-3, 0-0\n",
      "0-0, 2-3, 15-0\n",
      "0-0, 2-3, 30-0\n",
      "0-0, 2-3, 40-0\n",
      "goran-ivanisevic serving\n",
      "0-0, 3-3, 0-0\n",
      "0-0, 3-3, 15-0\n",
      "0-0, 3-3, 15-15\n",
      "0-0, 3-3, 15-30\n",
      "0-0, 3-3, 15-40\n",
      "pete-sampras serving\n",
      "0-0, 3-4, 0-0\n",
      "0-0, 3-4, 0-15\n",
      "0-0, 3-4, 15-15\n",
      "0-0, 3-4, 15-30\n",
      "0-0, 3-4, 30-30\n",
      "0-0, 3-4, 40-30\n",
      "goran-ivanisevic serving\n",
      "0-0, 4-4, 0-0\n",
      "0-0, 4-4, 0-15\n",
      "0-0, 4-4, 0-30\n",
      "0-0, 4-4, 15-30\n",
      "0-0, 4-4, 15-40\n",
      "pete-sampras serving\n",
      "0-0, 4-5, 0-0\n",
      "0-0, 4-5, 15-0\n",
      "0-0, 4-5, 30-0\n",
      "0-0, 4-5, 30-15\n",
      "0-0, 4-5, 40-15\n",
      "goran-ivanisevic serving\n",
      "0-0, 5-5, 0-0\n",
      "0-0, 5-5, 0-15\n",
      "0-0, 5-5, 0-30\n",
      "0-0, 5-5, 15-30\n",
      "0-0, 5-5, 15-40\n",
      "pete-sampras serving\n",
      "0-0, 5-6, 0-0\n",
      "0-0, 5-6, 0-15\n",
      "0-0, 5-6, 15-15\n",
      "0-0, 5-6, 30-15\n",
      "0-0, 5-6, 40-15\n",
      "0-0, 5-6, 40-30\n",
      "goran-ivanisevic serving\n",
      "0-0, 6-6, 0-0\n",
      "0-0, 6-6, 0-1\n",
      "pete-sampras serving\n",
      "0-0, 6-6, 1-1\n",
      "0-0, 6-6, 2-1\n",
      "goran-ivanisevic serving\n",
      "0-0, 6-6, 3-1\n",
      "0-0, 6-6, 3-2\n",
      "pete-sampras serving\n",
      "0-0, 6-6, 4-2\n",
      "0-0, 6-6, 5-2\n",
      "goran-ivanisevic serving\n",
      "0-0, 6-6, 5-3\n",
      "0-0, 6-6, 5-4\n",
      "pete-sampras serving\n",
      "0-0, 6-6, 6-4\n",
      "0-0, 6-6, 6-5\n",
      "goran-ivanisevic serving\n",
      "0-0, 6-6, 6-6\n",
      "0-0, 6-6, 6-7\n",
      "pete-sampras serving\n",
      "0-0, 6-6, 7-7\n",
      "0-0, 6-6, 8-7\n",
      "goran-ivanisevic serving\n",
      "0-0, 6-6, 8-8\n",
      "0-0, 6-6, 9-8\n",
      "pete-sampras serving\n",
      "0-0, 6-6, 10-8\n",
      "goran-ivanisevic serving\n",
      "1-0, 0-0, 0-0\n",
      "1-0, 0-0, 0-15\n",
      "1-0, 0-0, 15-15\n",
      "1-0, 0-0, 15-30\n",
      "1-0, 0-0, 15-40\n",
      "1-0, 0-0, 30-40\n",
      "pete-sampras serving\n",
      "1-0, 0-1, 0-0\n",
      "1-0, 0-1, 15-0\n",
      "1-0, 0-1, 15-15\n",
      "1-0, 0-1, 30-15\n",
      "1-0, 0-1, 40-15\n",
      "goran-ivanisevic serving\n",
      "1-0, 1-1, 0-0\n",
      "1-0, 1-1, 0-15\n",
      "1-0, 1-1, 0-30\n",
      "1-0, 1-1, 0-40\n",
      "1-0, 1-1, 15-40\n",
      "1-0, 1-1, 30-40\n",
      "pete-sampras serving\n",
      "1-0, 1-2, 0-0\n",
      "1-0, 1-2, 15-0\n",
      "1-0, 1-2, 15-15\n",
      "1-0, 1-2, 30-15\n",
      "1-0, 1-2, 40-15\n",
      "goran-ivanisevic serving\n",
      "1-0, 2-2, 0-0\n",
      "1-0, 2-2, 0-15\n",
      "1-0, 2-2, 0-30\n",
      "1-0, 2-2, 0-40\n",
      "pete-sampras serving\n",
      "1-0, 2-3, 0-0\n",
      "1-0, 2-3, 15-0\n",
      "1-0, 2-3, 15-15\n",
      "1-0, 2-3, 15-30\n",
      "1-0, 2-3, 15-40\n",
      "1-0, 2-3, 30-40\n",
      "1-0, 2-3, 40-40\n",
      "1-0, 2-3, 40-AD\n",
      "1-0, 2-3, 40-40\n",
      "1-0, 2-3, AD-40\n",
      "1-0, 2-3, 40-40\n",
      "1-0, 2-3, 40-AD\n",
      "1-0, 2-3, 40-40\n",
      "1-0, 2-3, AD-40\n",
      "goran-ivanisevic serving\n",
      "1-0, 3-3, 0-0\n",
      "1-0, 3-3, 15-0\n",
      "1-0, 3-3, 30-0\n",
      "1-0, 3-3, 30-15\n",
      "1-0, 3-3, 30-30\n",
      "1-0, 3-3, 30-40\n",
      "pete-sampras serving\n",
      "1-0, 3-4, 0-0\n",
      "1-0, 3-4, 15-0\n",
      "1-0, 3-4, 30-0\n",
      "1-0, 3-4, 40-0\n",
      "goran-ivanisevic serving\n",
      "1-0, 4-4, 0-0\n",
      "1-0, 4-4, 0-15\n",
      "1-0, 4-4, 0-30\n",
      "1-0, 4-4, 15-30\n",
      "1-0, 4-4, 30-30\n",
      "1-0, 4-4, 40-30\n",
      "pete-sampras serving\n",
      "1-0, 5-4, 0-0\n",
      "1-0, 5-4, 15-0\n",
      "1-0, 5-4, 30-0\n",
      "1-0, 5-4, 30-15\n",
      "1-0, 5-4, 40-15\n",
      "2-0, 0-0, 0-0\n",
      "Game, Set, Match.\n",
      "pete-sampras wins.\n"
     ]
    }
   ],
   "source": [
    "def match_simulator(player_1,player_2,year,surface):\n",
    "    # names dict for future reference\n",
    "    global names \n",
    "    names = {'p1': player_1,'p2': player_2}\n",
    "    \n",
    "    # split our dictionary into five dataframes for each relevant player statistic\n",
    "    first_perc = stats_dict['1st-serve'][surface][year]\n",
    "    first_serve = stats_dict['1st-serve-points-won'][surface][year]\n",
    "    second_serve = stats_dict['2nd-serve-points-won'][surface][year]\n",
    "    first_return = stats_dict['1st-serve-return-points-won'][surface][year]\n",
    "    second_return = stats_dict['2nd-serve-return-points-won'][surface][year]\n",
    "    \n",
    "    # extract serve and return percentages for player 1 and player 2 from the database\n",
    "    player1_info = {'1st_serve%':first_perc.loc[first_perc['player'] == player_1]['1st-serve'].values[0],\\\n",
    "                '1st_serve_win':first_serve.loc[first_serve['player'] == player_1]['1st-serve-points-won'].values[0],\\\n",
    "                '2nd_serve_win':second_serve.loc[second_serve['player'] == player_1]['2nd-serve-points-won'].values[0],\\\n",
    "                '1st_return_win':first_return.loc[first_return['player'] == player_1]['1st-serve-return-points-won'].values[0],\\\n",
    "                '2nd_return_win':second_return.loc[second_return['player'] == player_1]['2nd-serve-return-points-won'].values[0]}\n",
    "\n",
    "    player2_info = {'1st_serve%':first_perc.loc[first_perc['player'] == player_2]['1st-serve'].values[0],\\\n",
    "                '1st_serve_win':first_serve.loc[first_serve['player'] == player_2]['1st-serve-points-won'].values[0],\\\n",
    "                '2nd_serve_win':second_serve.loc[second_serve['player'] == player_2]['2nd-serve-points-won'].values[0],\\\n",
    "                '1st_return_win':first_return.loc[first_return['player'] == player_2]['1st-serve-return-points-won'].values[0],\\\n",
    "                '2nd_return_win':second_return.loc[second_return['player'] == player_2]['2nd-serve-return-points-won'].values[0]}\n",
    "\n",
    "\n",
    "    player1_dict = {}\n",
    "    player2_dict = {}\n",
    "\n",
    "\n",
    "    # normalize percentages by dividing each by sum of players' two stats (eg 1st serve win pct and 1st serve return pct)\n",
    "    # the new serve winning percentages reflect a combination of the server and returner's relative effectiveness\n",
    "    player1_dict['1st_serve_win'] = player1_info['1st_serve_win']/float(player1_info['1st_serve_win']+player2_info['1st_return_win'])\n",
    "    player2_dict['1st_serve_win'] = player2_info['1st_serve_win']/float(player2_info['1st_serve_win']+player1_info['1st_return_win'])\n",
    "    player1_dict['2nd_serve_win'] = player1_info['2nd_serve_win']/float(player1_info['2nd_serve_win']+player2_info['2nd_return_win'])\n",
    "    player2_dict['2nd_serve_win'] = player2_info['2nd_serve_win']/float(player2_info['2nd_serve_win']+player1_info['2nd_return_win'])\n",
    "    player1_dict['1st_serve%'] = player1_info['1st_serve%']\n",
    "    player2_dict['1st_serve%'] = player2_info['1st_serve%']\n",
    "\n",
    "\n",
    "    mast_dict = {}\n",
    "    mast_dict['p1'] = player1_dict\n",
    "    mast_dict['p2'] = player2_dict\n",
    "    \n",
    "    simulate(mast_dict,player_1,player_2)\n",
    "    \n",
    "    \n",
    "match_simulator('pete-sampras','goran-ivanisevic',1995,'grass')"
   ]
  },
  {
   "cell_type": "markdown",
   "metadata": {
    "collapsed": true
   },
   "source": [
    "As we can see, our match simulator effectively traverses tennis' complicated scoring system to completion."
   ]
  },
  {
   "cell_type": "markdown",
   "metadata": {
    "collapsed": true
   },
   "source": [
    "# Point by Point Simulator (n matches)"
   ]
  },
  {
   "cell_type": "markdown",
   "metadata": {
    "collapsed": true
   },
   "source": [
    "The following code is a new version of our match simulator. Now it simulates n matches and returns the proportion of the time that player_1 (the first player entered into the function) wins those n matches. I redefined two of the inner functions and created a new function n_match_simulator to achieve this. Make sure to run the newly defined \"check_score\" and \"simulate\" beforehand so as to avoid printing every point"
   ]
  },
  {
   "cell_type": "code",
   "execution_count": 11,
   "metadata": {
    "collapsed": false
   },
   "outputs": [
    {
     "name": "stderr",
     "output_type": "stream",
     "text": [
      "<ipython-input-11-fc2e0905781e>:30: SyntaxWarning: name 'server' is assigned to before global declaration\n",
      "  global server\n",
      "<ipython-input-11-fc2e0905781e>:31: SyntaxWarning: name 'serving' is used prior to global declaration\n",
      "  global serving\n",
      "<ipython-input-11-fc2e0905781e>:42: SyntaxWarning: name 'server' is assigned to before global declaration\n",
      "  global server\n",
      "<ipython-input-11-fc2e0905781e>:43: SyntaxWarning: name 'serving' is used prior to global declaration\n",
      "  global serving\n",
      "<ipython-input-11-fc2e0905781e>:48: SyntaxWarning: name 'server' is assigned to before global declaration\n",
      "  global server\n",
      "<ipython-input-11-fc2e0905781e>:49: SyntaxWarning: name 'serving' is used prior to global declaration\n",
      "  global serving\n"
     ]
    }
   ],
   "source": [
    "# check to see if a game should be over in tennis\n",
    "# I will first write this treating the tiebreaker as a typical fifteenth game with a single server\n",
    "# then I will later update it to reflect an actual tiebreaker\n",
    "score = {}\n",
    "score['set'] = [1,0]\n",
    "score['game'] = [6,6]\n",
    "score['point'] = [7,9]\n",
    "\n",
    "def check_score(points):\n",
    "    # first we check the points score    \n",
    "    # if we are not in a tiebreaker, proceed with regular scoring\n",
    "    if points['game'] != [6,6]:\n",
    "        if max(points['point']) < 4:\n",
    "            return points\n",
    "        if max(points['point']) >= 4:\n",
    "            if (max(points['point'])-min(points['point'])) < 2:\n",
    "                return points\n",
    "            else:\n",
    "                # if the difference in points is 2, we reset the point score and update the game score\n",
    "                if points['point'][0] > points['point'][1]:\n",
    "                    points['game'][0] += 1\n",
    "                    # I switch the server after any time the game score is updated\n",
    "                    index = server_I.next()\n",
    "                    global server\n",
    "                    global serving\n",
    "                    server = serving[index]\n",
    "                if points['point'][1] > points['point'][0]:\n",
    "                    points['game'][1] += 1\n",
    "                    index = server_I.next()\n",
    "                    global server\n",
    "                    global serving\n",
    "                    server = serving[index]\n",
    "                points['point'] = [0,0]\n",
    "    #if we are in a tiebreaker, switch serve every two points and end once a player gets to seven and wins by two\n",
    "    elif points['game'] == [6,6]:\n",
    "        # now check if tiebreak should be over\n",
    "        if max(points['point']) >= 7 and ((max(points['point'])-min(points['point'])) >= 2):\n",
    "            if points['point'][0] > points['point'][1]:\n",
    "                points['game'][0] += 1\n",
    "                # I switch the server after any time the game score is updated\n",
    "                index = server_I.next()\n",
    "                global server\n",
    "                global serving\n",
    "                server = serving[index]\n",
    "            if points['point'][1] > points['point'][0]:\n",
    "                points['game'][1] += 1\n",
    "                index = server_I.next()\n",
    "                global server\n",
    "                global serving\n",
    "                server = serving[index]\n",
    "            points['point'] = [0,0]\n",
    "        # otherwise, tiebreak continues\n",
    "        else:\n",
    "            return points\n",
    "            \n",
    "    # now we check the game score\n",
    "    if max(points['game']) < 6:\n",
    "        return points\n",
    "    if points['game'] == [6,6] and points['point'] == [0,0]:\n",
    "        return points\n",
    "    # my next logical statement covers all cases where a player has reached 6 or more games except 6-5\n",
    "    if (max(points['game']) - min(points['game'])) >= 2 or max(points['game']) == 7:\n",
    "        if points['game'][0] > points['game'][1]:\n",
    "            points['set'][0] += 1\n",
    "        if points['game'][1] > points['game'][0]:\n",
    "            points['set'][1] += 1\n",
    "        points['game'] = [0,0]\n",
    "\n",
    "    # now we check the set score\n",
    "    if max(points['set']) < 2:\n",
    "        return points\n",
    "    else:\n",
    "        #print \"Game, Set, Match.\"\n",
    "        return points"
   ]
  },
  {
   "cell_type": "code",
   "execution_count": 12,
   "metadata": {
    "collapsed": false
   },
   "outputs": [
    {
     "name": "stderr",
     "output_type": "stream",
     "text": [
      "<ipython-input-12-9ddc746b598b>:38: SyntaxWarning: name 'server' is assigned to before global declaration\n",
      "  global server\n",
      "<ipython-input-12-9ddc746b598b>:39: SyntaxWarning: name 'serving' is assigned to before global declaration\n",
      "  global serving\n"
     ]
    }
   ],
   "source": [
    "# let's get started\n",
    "\n",
    "def simulate(mast_dict,p1,p2):\n",
    "    outcomes = []\n",
    "    \n",
    "    # set up indicator variable to designate who is serving\n",
    "    global server_I\n",
    "    server_I = cycle(range(2))\n",
    "    # set up dict so I can index my iterator to find the server in a given game\n",
    "    global serving\n",
    "    serving = ['p1','p2']\n",
    "    global server\n",
    "    \n",
    "    # flip a coin to get this match started\n",
    "    if np.random.uniform(0,1) > .5:\n",
    "        #print \"%s to serve\" % (p1)\n",
    "        index = server_I.next()\n",
    "        server = serving[index]\n",
    "    else:\n",
    "        #print \"%s to serve\" % (p2)\n",
    "        server_I.next()\n",
    "        index = server_I.next()\n",
    "        server = serving[index]\n",
    "\n",
    "    # initialize empty scoreboards\n",
    "    score = {}\n",
    "    score['set'] = [0,0]\n",
    "    score['game'] = [0,0]\n",
    "    score['point'] = [0,0]\n",
    "\n",
    "    # now we get the party started...\n",
    "    while max(check_score(score)['set']) < 2:\n",
    "        score['point'] = point(mast_dict[server]['1st_serve%'],mast_dict[server]['1st_serve_win'],mast_dict[server]['2nd_serve_win'],score['point'])\n",
    "        score = check_score(score)\n",
    "        # checker\n",
    "        if score['game'] == [6,6] and sum(score['point'])%2 == 1:\n",
    "            index = server_I.next()\n",
    "            global server\n",
    "            global serving\n",
    "            server = serving[index]\n",
    "            \n",
    "    if max(check_score(score)['set']) == 2:\n",
    "        global names\n",
    "        if check_score(score)['set'][0] == 2:\n",
    "            wins[0] += 1\n",
    "            #print names['p1'] + ' wins.'\n",
    "        else:\n",
    "            wins[1] += 1\n",
    "            #print names['p2'] + ' wins'"
   ]
  },
  {
   "cell_type": "code",
   "execution_count": 55,
   "metadata": {
    "collapsed": false
   },
   "outputs": [],
   "source": [
    "def n_match_simulator(player_1,player_2,year,surface,n):\n",
    "    # names dict for future reference\n",
    "    global names \n",
    "    names = {'p1': player_1,'p2': player_2}\n",
    "    global wins\n",
    "    wins = [0,0]\n",
    "    \n",
    "    # split our dictionary into five dataframes for each relevant player statistic\n",
    "    first_perc = stats_dict['1st-serve'][surface][year]\n",
    "    first_serve = stats_dict['1st-serve-points-won'][surface][year]\n",
    "    second_serve = stats_dict['2nd-serve-points-won'][surface][year]\n",
    "    first_return = stats_dict['1st-serve-return-points-won'][surface][year]\n",
    "    second_return = stats_dict['2nd-serve-return-points-won'][surface][year]\n",
    "    \n",
    "    # extract serve and return percentages for player 1 and player 2 from the database\n",
    "    player1_info = {'1st_serve%':first_perc.loc[first_perc['player'] == player_1]['1st-serve'].values[0],\\\n",
    "                '1st_serve_win':first_serve.loc[first_serve['player'] == player_1]['1st-serve-points-won'].values[0],\\\n",
    "                '2nd_serve_win':second_serve.loc[second_serve['player'] == player_1]['2nd-serve-points-won'].values[0],\\\n",
    "                '1st_return_win':first_return.loc[first_return['player'] == player_1]['1st-serve-return-points-won'].values[0],\\\n",
    "                '2nd_return_win':second_return.loc[second_return['player'] == player_1]['2nd-serve-return-points-won'].values[0]}\n",
    "\n",
    "    player2_info = {'1st_serve%':first_perc.loc[first_perc['player'] == player_2]['1st-serve'].values[0],\\\n",
    "                '1st_serve_win':first_serve.loc[first_serve['player'] == player_2]['1st-serve-points-won'].values[0],\\\n",
    "                '2nd_serve_win':second_serve.loc[second_serve['player'] == player_2]['2nd-serve-points-won'].values[0],\\\n",
    "                '1st_return_win':first_return.loc[first_return['player'] == player_2]['1st-serve-return-points-won'].values[0],\\\n",
    "                '2nd_return_win':second_return.loc[second_return['player'] == player_2]['2nd-serve-return-points-won'].values[0]}\n",
    "\n",
    "\n",
    "    player1_dict = {}\n",
    "    player2_dict = {}\n",
    "\n",
    "\n",
    "    # normalize percentages by dividing each by sum of players' two stats (eg 1st serve win pct and 1st serve return pct)\n",
    "    # the new serve winning percentages reflect a combination of the server and returner's relative effectiveness\n",
    "    player1_dict['1st_serve_win'] = player1_info['1st_serve_win']/float(player1_info['1st_serve_win']+player2_info['1st_return_win'])\n",
    "    player2_dict['1st_serve_win'] = player2_info['1st_serve_win']/float(player2_info['1st_serve_win']+player1_info['1st_return_win'])\n",
    "    player1_dict['2nd_serve_win'] = player1_info['2nd_serve_win']/float(player1_info['2nd_serve_win']+player2_info['2nd_return_win'])\n",
    "    player2_dict['2nd_serve_win'] = player2_info['2nd_serve_win']/float(player2_info['2nd_serve_win']+player1_info['2nd_return_win'])\n",
    "    player1_dict['1st_serve%'] = player1_info['1st_serve%']\n",
    "    player2_dict['1st_serve%'] = player2_info['1st_serve%']\n",
    "\n",
    "\n",
    "    mast_dict = {}\n",
    "    mast_dict['p1'] = player1_dict\n",
    "    mast_dict['p2'] = player2_dict\n",
    "    \n",
    "    \n",
    "    \n",
    "    for i in range(0,n):\n",
    "        simulate(mast_dict,player_1,player_2)\n",
    "    print player_1 + \": \" + str(wins[0]) + \" wins\"\n",
    "    print player_2 + \": \" + str(wins[1]) + \" wins\"\n",
    "    wins[0] = float(wins[0])/1000\n",
    "    wins[1] = float(wins[1])/1000\n",
    "    return wins[0]\n",
    "#n_match_simulator('pete-sampras','andre-agassi',2000,'grass',1000)"
   ]
  },
  {
   "cell_type": "markdown",
   "metadata": {},
   "source": [
    "# Analysis"
   ]
  },
  {
   "cell_type": "code",
   "execution_count": 56,
   "metadata": {
    "collapsed": true
   },
   "outputs": [],
   "source": [
    "# As we can see below, world no. 1 Djokovic and no. 5 Ferrer, perform quite differently \n",
    "# against one another on clay and grass courts "
   ]
  },
  {
   "cell_type": "code",
   "execution_count": 57,
   "metadata": {
    "collapsed": false
   },
   "outputs": [
    {
     "name": "stdout",
     "output_type": "stream",
     "text": [
      "novak-djokovic: 522 wins\n",
      "david-ferrer: 478 wins\n"
     ]
    },
    {
     "data": {
      "text/plain": [
       "0.522"
      ]
     },
     "execution_count": 57,
     "metadata": {},
     "output_type": "execute_result"
    }
   ],
   "source": [
    "n_match_simulator('novak-djokovic','david-ferrer',2011,'clay',1000)"
   ]
  },
  {
   "cell_type": "code",
   "execution_count": 58,
   "metadata": {
    "collapsed": false
   },
   "outputs": [
    {
     "data": {
      "image/png": "[encoded data removed]",
      "text/plain": [
       "<matplotlib.figure.Figure at 0x10d1cc190>"
      ]
     },
     "metadata": {},
     "output_type": "display_data"
    }
   ],
   "source": [
    "%matplotlib inline\n",
    "x = ['djokovic win%','ferrer win%']\n",
    "plt.bar([1], wins[0], color='b')\n",
    "plt.bar([2], wins[1], color='purple')\n",
    "plt.xlabel\n",
    "plt.xticks([1.5,2.5],x)\n",
    "plt.title('Clay Court Match Simulations (n=1000)')\n",
    "plt.show()"
   ]
  },
  {
   "cell_type": "code",
   "execution_count": 59,
   "metadata": {
    "collapsed": false
   },
   "outputs": [
    {
     "name": "stdout",
     "output_type": "stream",
     "text": [
      "novak-djokovic: 687 wins\n",
      "david-ferrer: 313 wins\n"
     ]
    },
    {
     "data": {
      "text/plain": [
       "0.687"
      ]
     },
     "execution_count": 59,
     "metadata": {},
     "output_type": "execute_result"
    }
   ],
   "source": [
    "n_match_simulator('novak-djokovic','david-ferrer',2011,'grass',1000)"
   ]
  },
  {
   "cell_type": "code",
   "execution_count": 61,
   "metadata": {
    "collapsed": false
   },
   "outputs": [
    {
     "data": {
      "image/png": "[encoded data removed]",
      "text/plain": [
       "<matplotlib.figure.Figure at 0x10d406150>"
      ]
     },
     "metadata": {},
     "output_type": "display_data"
    }
   ],
   "source": [
    "%matplotlib inline\n",
    "x = ['djokovic win%','ferrer win%']\n",
    "plt.bar([1], wins[0], color='b')\n",
    "plt.bar([2], wins[1], color='purple')\n",
    "plt.xlabel\n",
    "plt.xticks([1.5,2.5],x)\n",
    "plt.title('Grass Court Match Simulations (n=1000)')\n",
    "plt.show()"
   ]
  },
  {
   "cell_type": "markdown",
   "metadata": {},
   "source": [
    "Now we'll test these probabilities out at this year's season finale, the 2015 ATP World Tour Finals\n",
    "Round Robin results. The winner is always entered as player one, so our final list represents the win probabilities we would have assigned to the actual winners beforehand. "
   ]
  },
  {
   "cell_type": "code",
   "execution_count": 28,
   "metadata": {
    "collapsed": false
   },
   "outputs": [
    {
     "name": "stdout",
     "output_type": "stream",
     "text": [
      "novak-djokovic: 634 wins\n",
      "kei-nishikori: 366 wins\n",
      "roger-federer: 652 wins\n",
      "tomas-berdych: 348 wins\n",
      "andy-murray: 556 wins\n",
      "david-ferrer: 444 wins\n",
      "rafael-nadal: 625 wins\n",
      "stan-wawrinka: 375 wins\n",
      "kei-nishikori: 473 wins\n",
      "tomas-berdych: 527 wins\n",
      "roger-federer: 591 wins\n",
      "novak-djokovic: 409 wins\n",
      "stan-wawrinka: 355 wins\n",
      "david-ferrer: 645 wins\n",
      "rafael-nadal: 447 wins\n",
      "andy-murray: 553 wins\n",
      "novak-djokovic: 592 wins\n",
      "tomas-berdych: 408 wins\n",
      "roger-federer: 728 wins\n",
      "kei-nishikori: 272 wins\n",
      "stan-wawrinka: 325 wins\n",
      "andy-murray: 675 wins\n",
      "rafael-nadal: 459 wins\n",
      "david-ferrer: 541 wins\n",
      "novak-djokovic: 619 wins\n",
      "rafael-nadal: 381 wins\n",
      "roger-federer: 757 wins\n",
      "stan-wawrinka: 243 wins\n",
      "novak-djokovic: 431 wins\n",
      "roger-federer: 569 wins\n"
     ]
    },
    {
     "data": {
      "text/plain": [
       "[0.634,\n",
       " 0.652,\n",
       " 0.556,\n",
       " 0.625,\n",
       " 0.473,\n",
       " 0.591,\n",
       " 0.355,\n",
       " 0.447,\n",
       " 0.592,\n",
       " 0.728,\n",
       " 0.325,\n",
       " 0.459,\n",
       " 0.619,\n",
       " 0.757,\n",
       " 0.431]"
      ]
     },
     "execution_count": 28,
     "metadata": {},
     "output_type": "execute_result"
    }
   ],
   "source": [
    "pairs = [['novak-djokovic','kei-nishikori'], ['roger-federer','tomas-berdych'],\\\n",
    "         ['andy-murray','david-ferrer'], ['rafael-nadal','stan-wawrinka'],\\\n",
    "         ['kei-nishikori','tomas-berdych'], ['roger-federer','novak-djokovic'],\\\n",
    "         ['stan-wawrinka','david-ferrer'], ['rafael-nadal','andy-murray'],\\\n",
    "         ['novak-djokovic','tomas-berdych'], ['roger-federer','kei-nishikori'],\\\n",
    "         ['stan-wawrinka','andy-murray'], ['rafael-nadal','david-ferrer'],\\\n",
    "         ['novak-djokovic','rafael-nadal'], ['roger-federer','stan-wawrinka'],\\\n",
    "         ['novak-djokovic','roger-federer']]\n",
    "\n",
    "m = []\n",
    "for i in xrange(len(pairs)):\n",
    "    m.append(n_match_simulator(pairs[i][0],pairs[i][1], 2015, 'hard',1000))\n",
    "m"
   ]
  },
  {
   "cell_type": "markdown",
   "metadata": {
    "collapsed": true
   },
   "source": [
    "From these results, we see our match simulator gave the actual winner a win probability greater than 1/2 nine out of fifteen times. If we were to predict the player with the higher win percentage from \"n_match_simulator,\" we would have achieved a 9/15 success rate in this case, which is comparable to our logistic regressions with ranking systems. In conclusion, it is hard to conclude the actual accuracy of this function, as it gives us a probability of players winning, when we can only compare probabilities against the results. Traditionally, a lot of matches in the ATP World Tour Finals are close (as only the world's top eight players are allowed entry), so it is not surprising that a lot of our final predictions leave us with win probabilities around 40-60%. Given this big uncertainty, our n_match_simulator can give insight into which player will have an edge, but also leads us to believe that many of these close match-ups are inherently difficult to predict."
   ]
  },
  {
   "cell_type": "code",
   "execution_count": null,
   "metadata": {
    "collapsed": true
   },
   "outputs": [],
   "source": []
  },
  {
   "cell_type": "code",
   "execution_count": null,
   "metadata": {
    "collapsed": true
   },
   "outputs": [],
   "source": []
  },
  {
   "cell_type": "code",
   "execution_count": null,
   "metadata": {
    "collapsed": true
   },
   "outputs": [],
   "source": []
  }
 ],
 "metadata": {
  "kernelspec": {
   "display_name": "Python 2",
   "language": "python",
   "name": "python2"
  },
  "language_info": {
   "codemirror_mode": {
    "name": "ipython",
    "version": 2
   },
   "file_extension": ".py",
   "mimetype": "text/x-python",
   "name": "python",
   "nbconvert_exporter": "python",
   "pygments_lexer": "ipython2",
   "version": "2.7.10"
  }
 },
 "nbformat": 4,
 "nbformat_minor": 0
}
